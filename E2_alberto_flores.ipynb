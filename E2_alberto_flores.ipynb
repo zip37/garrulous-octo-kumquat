{
  "nbformat": 4,
  "nbformat_minor": 0,
  "metadata": {
    "colab": {
      "name": "E2_alberto_flores.ipynb",
      "provenance": [],
      "collapsed_sections": [],
      "authorship_tag": "ABX9TyNcfcLW2AA+Wg0nbNJGuiD7",
      "include_colab_link": true
    },
    "kernelspec": {
      "name": "python3",
      "display_name": "Python 3"
    }
  },
  "cells": [
    {
      "cell_type": "markdown",
      "metadata": {
        "id": "view-in-github",
        "colab_type": "text"
      },
      "source": [
        "<a href=\"https://colab.research.google.com/github/zip37/garrulous-octo-kumquat/blob/master/E2_alberto_flores.ipynb\" target=\"_parent\"><img src=\"https://colab.research.google.com/assets/colab-badge.svg\" alt=\"Open In Colab\"/></a>"
      ]
    },
    {
      "cell_type": "markdown",
      "metadata": {
        "id": "yCf-O7WFIBhL"
      },
      "source": [
        "**Código para el examen 2**\n",
        "**Alberto Flores Cruz**"
      ]
    },
    {
      "cell_type": "markdown",
      "metadata": {
        "id": "NoRgk6gtP9EA"
      },
      "source": [
        "Librerías iniciales"
      ]
    },
    {
      "cell_type": "code",
      "metadata": {
        "id": "3ZH0-4o_UcII"
      },
      "source": [
        "import numpy as np\n",
        "import matplotlib.pyplot as plt"
      ],
      "execution_count": 550,
      "outputs": []
    },
    {
      "cell_type": "markdown",
      "metadata": {
        "id": "HWXnAQMQq_Ol"
      },
      "source": [
        "Implementaremos un solver de DG basado en el artículo de Cockburn y Shu. \n",
        "\n",
        "El problema a resolver es de una ley de conservación dada por\n",
        "\n",
        "$$u_t + (f(u))_x = 0$$\n",
        "\n",
        "donde $f$ puede ser no-lineal.\n",
        "\n",
        "Recordemos que al discretizar usando DG se obtiene el sistema de ecuaciones\n",
        "\n",
        "$$MU_t = \\hat L(U)$$\n",
        "\n",
        "La matriz de masa obtenida es diagonal por bloques, debido a esto, es fácil de invertir y podemos escribir:\n",
        "\n",
        "$$U_t = M^{-1} \\hat L(U) = L(U)$$\n",
        "\n",
        "Nos enfocaremos en escribir $L(U)$ de manera que pueda ser utilizado en la implementación del método RK.\n",
        "\n",
        "Recordemos que al usar como base para cada elemento a los polinomios de Legendre, es posible aprovechar su ortogonalidad, ya que estos satisfacen\n",
        "\n",
        "$$\\int_{I_k} \\phi_\\mathcal{l} \\phi_{\\mathcal{l}'} = \\frac{\\Delta x_k}{2\\mathcal{l} +  1}$$\n",
        "\n",
        "Cuando sus grados son $l = l'$. Esto nos permite expresar a $M$ como una matriz diagonal y nos preocupamos por escribir sólamente a $L$. El esquema numérico está dado entonces por:\n",
        "\n",
        "$$\\frac{d}{dt} u_j^l(t) = \\frac{2l+1}{\\Delta x_j} \\int_{I_j} f(u_h(x,t))( \\phi ^j_l(x) )_x \\, dx - \\hat f (u_h(x,t))\\phi_l^j \\rvert_{x_{j-\\frac12}}^{x_{j+\\frac12}}$$\n",
        "\n",
        "El flujo numérico elegido para $\\hat f$ es el de Lax-Friedrichs. "
      ]
    },
    {
      "cell_type": "code",
      "metadata": {
        "id": "q4wvxEUaUm64"
      },
      "source": [
        "#Funciones base\n",
        "def phi(x,degree):\n",
        "    if degree==0:\n",
        "      return 1.0\n",
        "    elif degree==1:\n",
        "      return x\n",
        "    elif degree==2:\n",
        "      return 1.5*x**2-0.5\n",
        "    elif degree==3:\n",
        "      return 2.5*x**3-1.5*x\n",
        "    else: \n",
        "      return 0\n",
        "\n",
        "def phi_derivative(x,degree):\n",
        "    if degree==0:\n",
        "      return 0.0\n",
        "    elif degree==1:\n",
        "      return 1.0\n",
        "    elif degree==2:\n",
        "      return 3.0*x\n",
        "    elif degree==3:\n",
        "      return 7.5*x**2-1.5\n",
        "    else:\n",
        "      return 0\n",
        "\n",
        "#Flujo Lax-Friedrichs\n",
        "def Nf_LF(f,Df,a,b,n): #Numerical flux, notice dependence on the \"normal\"\n",
        "    C=max(np.abs(Df(a)),np.abs(Df(b)))\n",
        "    y=0.5*((f(a)+f(b))*n-C*(b-a))\n",
        "    return y\n",
        "\n",
        "#Flujo Godunov\n",
        "def Nf_G(f,Df,a,b,n):\n",
        "  return min(f(a),f(b))\n",
        "\n",
        "def L(f,Df,flux,u_0,I,degree):\n",
        "  np.seterr(\"raise\")\n",
        "  N = len(I)\n",
        "  epsilon = 1e-6\n",
        "  L_mat = np.zeros((N-1,degree+1))\n",
        "  integration_points = int(np.ceil((degree+1)/2))\n",
        "  weights = q_weights(integration_points)\n",
        "  points = q_points(integration_points)\n",
        "  \n",
        "  for cell in range(N-1):\n",
        "    \n",
        "    P1 = I[cell]\n",
        "    P2 = I[cell+1]\n",
        "\n",
        "    dx = P2 - P1\n",
        "    xj = 0.5*(P1+P2)\n",
        "    \n",
        "    for l in range(degree+1):\n",
        "      #Integracion por cuadratura gaussiana\n",
        "      quadrature = 0.0\n",
        "      \n",
        "      for i in range(integration_points):\n",
        "        increment = 0.0\n",
        "        for j in range(degree+1):\n",
        "          increment = increment + u[cell][j] * phi(points[i],j)\n",
        "        fu = f(increment)\n",
        "        increment = weights[i]*phi_derivative(points[i],l)*fu\n",
        "        quadrature = quadrature + increment\n",
        "      \n",
        "      #print(\"quadrature\",quadrature)\n",
        "      #Calculo de flujos numéricos\n",
        "      P2_l = u_reconstruct(P2-epsilon,I,u,degree)\n",
        "      if cell == N-2 :\n",
        "        P2_r = u_reconstruct(P2,I,u,degree)\n",
        "      else :\n",
        "        P2_r = u_reconstruct(P2+epsilon,I,u,degree)\n",
        "      if cell == 0:\n",
        "        P1_l = u_reconstruct(P1,I,u,degree)\n",
        "      else :  \n",
        "        P1_l = u_reconstruct(P1-epsilon,I,u,degree)\n",
        "      P1_r = u_reconstruct(P1+epsilon,I,u,degree)\n",
        "      numflux = flux(f,Df,P2_l,P2_r,1.0) - flux(f,Df,P1_l,P1_r,1.0)*(-1)**l\n",
        "      #print(\"numflux\",numflux)\n",
        "      numflux = (2.0*l+1.0)*(quadrature - numflux)/dx\n",
        "      L_mat[cell][l] = numflux\n",
        "\n",
        "  return L_mat\n",
        "\n",
        "def u_inicial(u_0,degree): #Calcula la condición inicial\n",
        "  N = len(I)\n",
        "  u = np.zeros((N-1,degree+1))\n",
        "  integration_points = int(np.ceil((degree+1)/2))\n",
        "  weights = q_weights(integration_points)\n",
        "  points = q_points(integration_points)\n",
        "  for cell in range(N-1):\n",
        "    P1 = I[cell]\n",
        "    P2 = I[cell+1]\n",
        "    dx = P2-P1\n",
        "    xj = 0.5*(P1+P2)\n",
        "    L_vec = np.zeros(degree+1)\n",
        "    for l in range(degree+1):\n",
        "      #Cuadratura numérica\n",
        "      quadrature = 0.0\n",
        "      for i in range(integration_points):\n",
        "        increment = weights[i]*u_0(xj+0.5*dx*points[i])*phi(points[i],l)\n",
        "        quadrature = quadrature + increment\n",
        "        #if i == integration_points:\n",
        "          #print(quadrature,cell)\n",
        "      u[cell][l] = 0.5*(2.0*l+1.0)*quadrature\n",
        "  return u\n",
        "\n",
        "#Constantes para cuadratura gaussiana\n",
        "def q_weights(degree):\n",
        "  weights = np.zeros(degree)\n",
        "  if degree == 1 :\n",
        "    weights[0] = 2.0\n",
        "  elif degree == 2 :\n",
        "    weights[0] = 1.0\n",
        "    weights[1] = 1.0 \n",
        "  elif degree == 3 :\n",
        "    weights[0] = 8.0/9.0\n",
        "    weights[1] = 5.0/9.0\n",
        "    weights[2] = weights[1] \n",
        "  elif degree == 4 :\n",
        "    weights[0] = (18.0+np.sqrt(30.0))/36.0\n",
        "    weights[1] = weights[0]\n",
        "    weights[2] = (18.0-np.sqrt(30.0))/36.0\n",
        "    weights[3] = weights[2]\n",
        "  else :\n",
        "    weights[0] = 2.0 \n",
        "  return weights\n",
        "\n",
        "def q_points(degree):\n",
        "  points = np.zeros(degree)\n",
        "  if degree == 1 :\n",
        "    points[0] = 0.0 \n",
        "  elif degree == 2 :\n",
        "    points[0] = 1.0/np.sqrt(3.0)\n",
        "    points[1] = -points[0] \n",
        "  elif degree == 3 :\n",
        "    points[0] = 0.0\n",
        "    points[1] = np.sqrt(3.0/5.0)\n",
        "    points[2] = -points[1]\n",
        "  elif degree == 4 :\n",
        "    points[0] = np.sqrt(3.0/7.0 - 2.0/7.0*np.sqrt(6.0/5.0))\n",
        "    points[1] = -points[1]\n",
        "    points[2] = np.sqrt(3.0/7.0 + 2.0/7.0*np.sqrt(6.0/5.0))\n",
        "    points[3] = -points[2]\n",
        "  else :\n",
        "    points[0] = 0.0 \n",
        "  return points\n",
        "\n",
        "#Reconstruimos la solución final en un punto dado a partir de las aproximaciones\n",
        "#obtenidas\n",
        "def u_reconstruct(x,I,u,degree):\n",
        "  #Identifica el intervalo en donde se encuentra x\n",
        "  k = 0\n",
        "  for i in range(len(I)-1):\n",
        "    k = i\n",
        "    if I[i] <= x and x < I[i+1] :\n",
        "      break\n",
        "  eval = 0.0\n",
        "  if i != len(I)-1:\n",
        "    dx = I[k+1]-I[k]\n",
        "    xj = 0.5*(I[k+1]+I[k])\n",
        "  else:\n",
        "    dx = I[k]-I[k-1]\n",
        "    xj = 0.5*(I[k]+I[k-1])\n",
        "  for i in range(degree+1):\n",
        "    point = 2.0*(x-xj)/dx\n",
        "    eval = eval + u[k][i]*phi(point,i)\n",
        "  return eval"
      ],
      "execution_count": 676,
      "outputs": []
    },
    {
      "cell_type": "markdown",
      "metadata": {
        "id": "ZYAvmqOrF6EZ"
      },
      "source": [
        "Como detalles de implementación, para la integral que aparece como primer sumando en el esquema numérico, se utilizó cuadratura gaussiana. La solución en cualquier punto se evalúa considerando la combinación lineal de los polinomios base."
      ]
    },
    {
      "cell_type": "markdown",
      "metadata": {
        "id": "e0NZHfOWPyXE"
      },
      "source": [
        "A continuación se tiene la implementación de un método RK para un avance en el tiempo (más en específico, el de orden 3 en el artículo)."
      ]
    },
    {
      "cell_type": "code",
      "metadata": {
        "id": "yd9xcsWarVOs"
      },
      "source": [
        "#Ejecuta un paso de RK\n",
        "def RK_integrate(u_0,dt,f,Df,u0,flux,I,degree):\n",
        "  cells = len(I)-1\n",
        "  w1 = u_0\n",
        "  L0 = L(f,Df,flux,u_0,I,degree)\n",
        "  for cell in range(cells):\n",
        "    for l in range(degree+1):\n",
        "      w1[cell][l] = u_0[cell][l] + dt*L0[cell][l]\n",
        "  w2 = w1\n",
        "  L1 = L(f,Df,flux,w1,I,degree)\n",
        "  for cell in range(cells):\n",
        "    for l in range(degree+1):\n",
        "      w2[cell][l] = 0.75*u_0[cell][l] + 0.25*(w1[cell][l] + dt*L1[cell][l])\n",
        "  u_next = w2\n",
        "  L2 = L(f,Df,flux,w2,I,degree)\n",
        "  for cell in range(cells):\n",
        "    for l in range(degree+1):\n",
        "      u_next[cell][l] = (1.0/3.0)*u_0[cell][l] + (2.0/3.0)*(w2[cell][l] + dt*L2[cell][l])\n",
        "  return u_next\n",
        "\n",
        "def FD_integrate(u_0,dt,f,Df,u0,flux,I,degree):\n",
        "  u_next = u_0\n",
        "  cells = len(I)-1\n",
        "  L_next = L(f,Df,flux,u_0,I,degree) \n",
        "  for cell in range(cells):\n",
        "    u_next[cell] = u_next[cell] + dt*L_next[cell]\n",
        "  return u_next"
      ],
      "execution_count": 634,
      "outputs": []
    },
    {
      "cell_type": "markdown",
      "metadata": {
        "id": "pud1dlaW3XrG"
      },
      "source": [
        "En esta sección se define la función $f$ y su derivada, así como el tamaño de paso en el tiempo $dt$ y la condición inicial $u(x,0)=u_0(x)$."
      ]
    },
    {
      "cell_type": "code",
      "metadata": {
        "id": "sREbAPo33W7q"
      },
      "source": [
        "def fun(x):\n",
        "  return 0.0025*x\n",
        "\n",
        "def D_fun(x):\n",
        "  return 0.0025\n",
        "\n",
        "def u0(x):\n",
        "  if np.pi/2.0 < x and x < 3.0*np.pi/2.0:\n",
        "     return 1.0\n",
        "  else:\n",
        "    return 0.0\n",
        "\n",
        "#def u0(x):\n",
        "#  return 0.25 + 0.5 * np.sin(np.pi*(2.0*x-1.0))\n",
        "\n",
        "#def u0(x):\n",
        "#  return 10.0*np.cos(0.4*np.pi*x)\n",
        "\n",
        "n = 10\n",
        "dt = 1.5/n"
      ],
      "execution_count": 682,
      "outputs": []
    },
    {
      "cell_type": "markdown",
      "metadata": {
        "id": "0Ez9NB2G3uVb"
      },
      "source": [
        "Solver principal"
      ]
    },
    {
      "cell_type": "code",
      "metadata": {
        "id": "OyiaUWcT3wFX"
      },
      "source": [
        "import time\n",
        "\n",
        "def solve_DG(I,f,Df,u_0,degree,steps,dt):\n",
        "  u = np.zeros((n,len(I)-1,degree+1))\n",
        "  u[0] = u_inicial(u_0,degree)\n",
        "  for i in range(1,steps):\n",
        "    #print(\"RK paso \", i)\n",
        "    u_new = RK_integrate(u[i-1],dt,f,Df,u0,Nf_LF,I,degree) \n",
        "    u[i] = u_new\n",
        "    #time.sleep(2)\n",
        "  return u"
      ],
      "execution_count": 667,
      "outputs": []
    },
    {
      "cell_type": "markdown",
      "metadata": {
        "id": "jkSAespTGmyW"
      },
      "source": [
        "En esta sección podemos visualizar la condición inicial"
      ]
    },
    {
      "cell_type": "code",
      "metadata": {
        "id": "LdCZH9RWoXNK",
        "outputId": "a24cd4f7-b315-486c-932c-914bde80131e",
        "colab": {
          "base_uri": "https://localhost:8080/",
          "height": 283
        }
      },
      "source": [
        "I = np.linspace(0,2.0*np.pi,500)\n",
        "degree = 3\n",
        "u = u_inicial(u0,degree)\n",
        "x = np.linspace(0,2.0*np.pi,300)\n",
        "current_sol = np.zeros(len(x))\n",
        "for j in range(len(x)):\n",
        "  current_sol[j] = u_reconstruct(x[j],I,u,degree)\n",
        "#plt.axis('equal')\n",
        "plt.plot(x,current_sol)\n",
        "plt.show"
      ],
      "execution_count": 683,
      "outputs": [
        {
          "output_type": "execute_result",
          "data": {
            "text/plain": [
              "<function matplotlib.pyplot.show>"
            ]
          },
          "metadata": {
            "tags": []
          },
          "execution_count": 683
        },
        {
          "output_type": "display_data",
          "data": {
            "image/png": "[encoded data removed]",
            "text/plain": [
              "<Figure size 432x288 with 1 Axes>"
            ]
          },
          "metadata": {
            "tags": [],
            "needs_background": "light"
          }
        }
      ]
    },
    {
      "cell_type": "markdown",
      "metadata": {
        "id": "RIsQRcWpHfFB"
      },
      "source": [
        "Procedemos a resolver el problema"
      ]
    },
    {
      "cell_type": "code",
      "metadata": {
        "id": "FFeoKahw6HAr",
        "outputId": "5deaa65d-8450-471a-bf49-cedd26329fd1",
        "colab": {
          "base_uri": "https://localhost:8080/",
          "height": 283
        }
      },
      "source": [
        "solution = solve_DG(I,fun,D_fun,u0,degree,n,dt)\n",
        "x = np.linspace(0,2.0*np.pi,250)\n",
        "current_sol = np.zeros(len(x))\n",
        "for i in range(len(solution)):\n",
        "  for j in range(len(x)):\n",
        "    current_sol[j] = u_reconstruct(x[j],I,solution[i],degree)\n",
        "  #plt.axis('equal')\n",
        "  plt.plot(x[0:-1],current_sol[0:-1])  \n",
        "plt.show"
      ],
      "execution_count": 684,
      "outputs": [
        {
          "output_type": "execute_result",
          "data": {
            "text/plain": [
              "<function matplotlib.pyplot.show>"
            ]
          },
          "metadata": {
            "tags": []
          },
          "execution_count": 684
        },
        {
          "output_type": "display_data",
          "data": {
            "image/png": "[encoded data removed]",
            "text/plain": [
              "<Figure size 432x288 with 1 Axes>"
            ]
          },
          "metadata": {
            "tags": [],
            "needs_background": "light"
          }
        }
      ]
    },
    {
      "cell_type": "markdown",
      "metadata": {
        "id": "1yNNTGsdGvpE"
      },
      "source": [
        "Para el caso de la ecuación de transporte, utilizamos una condición inicial discontinua en $\\pi/2$ y $3\\pi/2$. Notamos ondas de choque en las discontinuidades, apenas perceptibles en las gráficas con distinto color."
      ]
    },
    {
      "cell_type": "markdown",
      "metadata": {
        "id": "beCeQjDwHETW"
      },
      "source": [
        "A continuación consideramos otro ejemplo en la ecuación de Burgers con una condición de frontera periódica."
      ]
    },
    {
      "cell_type": "code",
      "metadata": {
        "id": "GBYLIn5vHLPA"
      },
      "source": [
        "def fun(x):\n",
        "  return 0.5*x**2\n",
        "\n",
        "def D_fun(x):\n",
        "  return x\n",
        "\n",
        "def u0(x):\n",
        "  return 0.25 + 0.5 * np.sin(np.pi*(2.0*x-1.0))\n",
        "\n",
        "n = 10\n",
        "dt = 1.5/n"
      ],
      "execution_count": 687,
      "outputs": []
    },
    {
      "cell_type": "code",
      "metadata": {
        "id": "5ctm7GmiHZK6",
        "outputId": "ce0334ed-919c-4f20-d849-9aaa52e988df",
        "colab": {
          "base_uri": "https://localhost:8080/",
          "height": 287
        }
      },
      "source": [
        "I = np.linspace(0,1,500)\n",
        "degree = 3\n",
        "u = u_inicial(u0,degree)\n",
        "x = np.linspace(0,1,300)\n",
        "current_sol = np.zeros(len(x))\n",
        "for j in range(len(x)):\n",
        "  current_sol[j] = u_reconstruct(x[j],I,u,degree)\n",
        "#plt.axis('equal')\n",
        "plt.plot(x,current_sol)\n",
        "plt.show"
      ],
      "execution_count": 688,
      "outputs": [
        {
          "output_type": "execute_result",
          "data": {
            "text/plain": [
              "<function matplotlib.pyplot.show>"
            ]
          },
          "metadata": {
            "tags": []
          },
          "execution_count": 688
        },
        {
          "output_type": "display_data",
          "data": {
            "image/png": "[encoded data removed]",
            "text/plain": [
              "<Figure size 432x288 with 1 Axes>"
            ]
          },
          "metadata": {
            "tags": [],
            "needs_background": "light"
          }
        }
      ]
    },
    {
      "cell_type": "code",
      "metadata": {
        "id": "G6gGsrg0Hdxt",
        "outputId": "e5cddc91-41ce-43b6-ef08-5ba03ed912da",
        "colab": {
          "base_uri": "https://localhost:8080/",
          "height": 283
        }
      },
      "source": [
        "solution = solve_DG(I,fun,D_fun,u0,degree,n,dt)\n",
        "x = np.linspace(0,1,250)\n",
        "current_sol = np.zeros(len(x))\n",
        "for i in range(len(solution)):\n",
        "  for j in range(len(x)):\n",
        "    current_sol[j] = u_reconstruct(x[j],I,solution[i],degree)\n",
        "  #plt.axis('equal')\n",
        "  plt.plot(x[0:-1],current_sol[0:-1])  \n",
        "plt.show"
      ],
      "execution_count": 689,
      "outputs": [
        {
          "output_type": "execute_result",
          "data": {
            "text/plain": [
              "<function matplotlib.pyplot.show>"
            ]
          },
          "metadata": {
            "tags": []
          },
          "execution_count": 689
        },
        {
          "output_type": "display_data",
          "data": {
            "image/png": "[encoded data removed]",
            "text/plain": [
              "<Figure size 432x288 with 1 Axes>"
            ]
          },
          "metadata": {
            "tags": [],
            "needs_background": "light"
          }
        }
      ]
    }
  ]
}