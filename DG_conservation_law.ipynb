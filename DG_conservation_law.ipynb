{
  "nbformat": 4,
  "nbformat_minor": 0,
  "metadata": {
    "colab": {
      "name": "Copy of Untitled4.ipynb",
      "provenance": [],
      "authorship_tag": "ABX9TyNm2s+w0CtKxSC1t4ErqEZn",
      "include_colab_link": true
    },
    "kernelspec": {
      "name": "python3",
      "display_name": "Python 3"
    }
  },
  "cells": [
    {
      "cell_type": "markdown",
      "metadata": {
        "id": "view-in-github",
        "colab_type": "text"
      },
      "source": [
        "<a href=\"https://colab.research.google.com/github/zip37/garrulous-octo-kumquat/blob/master/DG_conservation_law.ipynb\" target=\"_parent\"><img src=\"https://colab.research.google.com/assets/colab-badge.svg\" alt=\"Open In Colab\"/></a>"
      ]
    },
    {
      "cell_type": "markdown",
      "metadata": {
        "id": "NoRgk6gtP9EA"
      },
      "source": [
        "Librerías iniciales"
      ]
    },
    {
      "cell_type": "code",
      "metadata": {
        "id": "3ZH0-4o_UcII"
      },
      "source": [
        "import numpy as np\n",
        "import matplotlib.pyplot as plt"
      ],
      "execution_count": null,
      "outputs": []
    },
    {
      "cell_type": "markdown",
      "metadata": {
        "id": "HWXnAQMQq_Ol"
      },
      "source": [
        "Implementaremos un solver de DG basado en el artículo de Cockburn y Shu. \n",
        "\n",
        "Recordemos que al discretizar usando DG se obtiene el sistema de ecuaciones\n",
        "\n",
        "$$MU_t = L(U)$$\n",
        "\n",
        "La matriz de masa obtenida es diagonal por bloques. Usamos polinomios de Legendre para garantizar que la matriz de masa sea diagonal, con esto ahorramos invertir la matriz y sólo nos preocuparemos por usar RK para avanzar en el tiempo, es decir, tenemos solamente:\n",
        "\n",
        "$$U_t = L(U)$$ "
      ]
    },
    {
      "cell_type": "code",
      "metadata": {
        "id": "q4wvxEUaUm64"
      },
      "source": [
        "#Funciones base (polinomios de Legendre)\n",
        "\n",
        "def phi(x,degree):\n",
        "  if degree == 0 :\n",
        "    return 1\n",
        "  elif degree == 1 :\n",
        "    return x\n",
        "  elif degree == 2 :\n",
        "    return 0.5*(3.0*x**2-1.0)\n",
        "  else:\n",
        "     return 1\n",
        "\n",
        "def phi_derivative(x,degree):\n",
        "  if degree == 0 :\n",
        "    return 0\n",
        "  elif degree == 1 :\n",
        "    return 1\n",
        "  elif degree == 2 :\n",
        "    return 3.0*x\n",
        "  else: \n",
        "    return 0\n",
        "\n",
        "#Flujo Lax-Friedrichs\n",
        "\n",
        "def Nf_LF(f,Df,a,b,n): #Numerical flux, notice dependence on the \"normal\"\n",
        "    C=max(abs(Df(a)),abs(Df(b)))\n",
        "    y=0.5*((f(a)+f(b))*n-C*(b-a))\n",
        "    return y\n",
        "\n",
        "#Escribimos al operador L, contiene un sumando a integrar mediante algún tipo \n",
        "#de cuadratura, además del término para el flujo numérico.\n",
        "\n",
        "def L(f,Df,flux,u_0,I,I_l,I_r,degree):\n",
        "  quadrature = 0.0\n",
        "  weights = q_weights(degree)\n",
        "  points = q_points(degree)\n",
        "  dx = I[1] - I[0]\n",
        "  xj = 0.5*(I[1] + I[0])\n",
        "  #Integracion por cuadratura gaussiana\n",
        "  for i in range(degree):\n",
        "    point = xj + 0.5*dx*points[i] #Pasa al intervalo [-1,1]\n",
        "    increment = weights[i] * f(u_0(point)) * phi_derivative(points[i],degree)\n",
        "    quadrature = quadrature + increment\n",
        "  quadrature = 0.5*quadrature\n",
        "  #Calculo de flujos numéricos\n",
        "  numflux = flux(f,Df,I[1],I_r,1) - flux(f,Df,I_l,I[0],1)*(-1)**degree\n",
        "  numflux = quadrature - numflux*(2.0*degree+1.0)/dx\n",
        "  return numflux\n",
        "\n",
        "def U_inicial(u_0,I,degree): #Integra la condición inicial\n",
        "  quadrature = 0.0\n",
        "  weights = q_weights(degree)\n",
        "  points = q_points(degree)\n",
        "  dx = I[1] - I[0]\n",
        "  xj = 0.5*(I[1] + I[0])\n",
        "  for i in range(degree):\n",
        "    point = xj + 0.5*dx*points[i] #Pasa al intervalo [-1,1]\n",
        "    increment = weights[i] * u_0(point) * phi(points[i],degree)\n",
        "    quadrature = quadrature + increment\n",
        "  quadrature = 0.5*(2.0*degree+1)*quadrature\n",
        "  return quadrature\n",
        "\n",
        "#Constantes para cuadratura gaussiana\n",
        "def q_weights(degree):\n",
        "  weights = np.zeros(degree+1)\n",
        "  if degree == 0 :\n",
        "    weights[0] = 2   \n",
        "  elif degree == 1 :\n",
        "    weights[0] = 1\n",
        "    weights[1] = 1 \n",
        "  elif degree == 2 :\n",
        "    weights[0] = 8.0/9.0\n",
        "    weights[1] = 5.0/9.0 \n",
        "  else :\n",
        "    weights[0] = 2 \n",
        "  return weights\n",
        "\n",
        "def q_points(degree):\n",
        "  points = np.zeros(degree+1)\n",
        "  if degree == 0 :\n",
        "    points[0] = 0 \n",
        "  elif degree == 1 :\n",
        "    points[0] = 1.0/np.sqrt(3.0)\n",
        "    points[1] = -points[0] \n",
        "  elif degree == 2 :\n",
        "    points[0] = 0\n",
        "    points[1] = np.sqrt(3.0/5.0)\n",
        "    points[2] = -points[1] \n",
        "  else :\n",
        "    points[0] = 0 \n",
        "  return points\n"
      ],
      "execution_count": null,
      "outputs": []
    },
    {
      "cell_type": "markdown",
      "metadata": {
        "id": "e0NZHfOWPyXE"
      },
      "source": [
        "A continuación se tiene la implementación de un método RK para un avance en el tiempo."
      ]
    },
    {
      "cell_type": "code",
      "metadata": {
        "id": "yd9xcsWarVOs"
      },
      "source": [
        "def RK_integrate(u_0,dt,f,Df,flux,u_0,I,I_l,I_r,degree):\n",
        "  "
      ],
      "execution_count": null,
      "outputs": []
    }
  ]
}